{
 "cells": [
  {
   "cell_type": "code",
   "execution_count": 1,
   "metadata": {},
   "outputs": [],
   "source": [
    "import pandas as pd   # library to work with CSV files and tables\n",
    "import numpy as np    # library for math functions\n"
   ]
  },
  {
   "cell_type": "code",
   "execution_count": 2,
   "metadata": {},
   "outputs": [],
   "source": [
    "try:\n",
    "    df = pd.read_csv('students.csv')  # read the CSV file\n",
    "except FileNotFoundError:\n",
    "    print(\"Error: The file 'students.csv' was not found.\")\n",
    "    exit() # stoping the program if file not found"
   ]
  },
  {
   "cell_type": "code",
   "execution_count": 3,
   "metadata": {},
   "outputs": [],
   "source": [
    "# Checking if required columns exist\n",
    "required_cols = ['name', 'math_score', 'science_score', 'english_score']\n",
    "\n",
    "for col in required_cols:\n",
    "    if col not in df.columns:\n",
    "        print(f\"Error: Missing column '{col}' in CSV.\")\n",
    "        exit()"
   ]
  },
  {
   "cell_type": "code",
   "execution_count": 4,
   "metadata": {},
   "outputs": [],
   "source": [
    "# Calculating total score and percentage\n",
    "df['total_score'] = (\n",
    "    df['math_score'] + df['science_score'] + df['english_score']\n",
    ")   \n",
    "df['percentage'] = df['total_score'] / 3  # average percentage"
   ]
  },
  {
   "cell_type": "code",
   "execution_count": 5,
   "metadata": {},
   "outputs": [],
   "source": [
    "#Assigning grades based on percentage\n",
    "grades = []   \n",
    "\n",
    "for percent in df['percentage']:\n",
    "    if percent >= 90:\n",
    "        grades.append('A')\n",
    "    elif percent >= 80:\n",
    "        grades.append('B')\n",
    "    elif percent >= 70:\n",
    "        grades.append('C')\n",
    "    elif percent >= 60:\n",
    "        grades.append('D')\n",
    "    else:\n",
    "        grades.append('F')\n",
    "\n",
    "df['grade'] = grades "
   ]
  },
  {
   "cell_type": "code",
   "execution_count": null,
   "metadata": {},
   "outputs": [],
   "source": []
  }
 ],
 "metadata": {
  "kernelspec": {
   "display_name": "Python 3",
   "language": "python",
   "name": "python3"
  },
  "language_info": {
   "codemirror_mode": {
    "name": "ipython",
    "version": 3
   },
   "file_extension": ".py",
   "mimetype": "text/x-python",
   "name": "python",
   "nbconvert_exporter": "python",
   "pygments_lexer": "ipython3",
   "version": "3.13.7"
  },
  "orig_nbformat": 4
 },
 "nbformat": 4,
 "nbformat_minor": 2
}
